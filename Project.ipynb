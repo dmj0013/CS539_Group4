{
  "nbformat": 4,
  "nbformat_minor": 0,
  "metadata": {
    "colab": {
      "provenance": [],
      "gpuType": "T4"
    },
    "kernelspec": {
      "name": "python3",
      "display_name": "Python 3"
    },
    "language_info": {
      "name": "python"
    },
    "accelerator": "GPU",
    "gpuClass": "standard"
  },
  "cells": [
    {
      "cell_type": "code",
      "execution_count": 5,
      "metadata": {
        "id": "PPf4ROgxpmOf"
      },
      "outputs": [],
      "source": [
        "import matplotlib.pyplot as plt\n",
        "import numpy as np\n",
        "import pandas as pd\n",
        "import tensorflow as tf\n",
        "from sklearn.metrics import accuracy_score, precision_score, recall_score\n",
        "from sklearn.model_selection import train_test_split, RandomizedSearchCV\n",
        "from keras.models import Sequential\n",
        "from keras.layers import Dense\n",
        "from keras.wrappers.scikit_learn import KerasClassifier"
      ]
    },
    {
      "cell_type": "code",
      "source": [
        "# Zahin's File Reader"
      ],
      "metadata": {
        "id": "kKeOLF8NDuiO"
      },
      "execution_count": 6,
      "outputs": []
    },
    {
      "cell_type": "code",
      "source": [
        "# Rishi's File Reader\n",
        "from google.colab import drive\n",
        "\n",
        "drive.mount('/content/drive')\n",
        "dataset = pd.read_csv('/content/drive/My Drive/Colab Notebooks/data/diabetes.csv')"
      ],
      "metadata": {
        "id": "8e1Oa7a9p-p1",
        "colab": {
          "base_uri": "https://localhost:8080/"
        },
        "outputId": "3fe23bbc-36c4-4277-e424-76f5396b413b"
      },
      "execution_count": 7,
      "outputs": [
        {
          "output_type": "stream",
          "name": "stdout",
          "text": [
            "Mounted at /content/drive\n"
          ]
        }
      ]
    },
    {
      "cell_type": "code",
      "source": [
        "# Visulize data\n",
        "print(dataset.head)\n",
        "X = dataset.iloc[:, :-1].values\n",
        "y = dataset.iloc[:, -1].values"
      ],
      "metadata": {
        "id": "nLbY4EhQrJXA",
        "colab": {
          "base_uri": "https://localhost:8080/"
        },
        "outputId": "2acf1d1e-c5ae-46f1-f4d9-733bd352bd01"
      },
      "execution_count": 8,
      "outputs": [
        {
          "output_type": "stream",
          "name": "stdout",
          "text": [
            "<bound method NDFrame.head of      Pregnancies  Glucose  BloodPressure  SkinThickness  Insulin   BMI  \\\n",
            "0              6      148             72             35        0  33.6   \n",
            "1              1       85             66             29        0  26.6   \n",
            "2              8      183             64              0        0  23.3   \n",
            "3              1       89             66             23       94  28.1   \n",
            "4              0      137             40             35      168  43.1   \n",
            "..           ...      ...            ...            ...      ...   ...   \n",
            "763           10      101             76             48      180  32.9   \n",
            "764            2      122             70             27        0  36.8   \n",
            "765            5      121             72             23      112  26.2   \n",
            "766            1      126             60              0        0  30.1   \n",
            "767            1       93             70             31        0  30.4   \n",
            "\n",
            "     DiabetesPedigreeFunction  Age  Outcome  \n",
            "0                       0.627   50        1  \n",
            "1                       0.351   31        0  \n",
            "2                       0.672   32        1  \n",
            "3                       0.167   21        0  \n",
            "4                       2.288   33        1  \n",
            "..                        ...  ...      ...  \n",
            "763                     0.171   63        0  \n",
            "764                     0.340   27        0  \n",
            "765                     0.245   30        0  \n",
            "766                     0.349   47        1  \n",
            "767                     0.315   23        0  \n",
            "\n",
            "[768 rows x 9 columns]>\n"
          ]
        }
      ]
    },
    {
      "cell_type": "code",
      "source": [
        "# Normalizing the input features\n",
        "from sklearn.preprocessing import StandardScaler\n",
        "sc = StandardScaler()\n",
        "X = sc.fit_transform(X)"
      ],
      "metadata": {
        "id": "9BaZiqvGDz-y"
      },
      "execution_count": 9,
      "outputs": []
    },
    {
      "cell_type": "code",
      "source": [
        "# Splitting the dataset into training and testing sets\n",
        "X_train, X_test, y_train, y_test = train_test_split(X, y, test_size=0.2, random_state=0)\n"
      ],
      "metadata": {
        "id": "ogXMc4r9RLdF"
      },
      "execution_count": 10,
      "outputs": []
    },
    {
      "cell_type": "code",
      "source": [
        "# Building the ANN model\n",
        "def create_model(optimizer='adam', neurons=12):\n",
        "    model = Sequential()\n",
        "    model.add(Dense(neurons, input_dim=8, activation='relu'))\n",
        "    model.add(Dense(neurons // 2, activation='relu'))\n",
        "    model.add(Dense(1, activation='sigmoid'))\n",
        "    model.compile(loss='binary_crossentropy', optimizer=optimizer, metrics=['accuracy'])\n",
        "    return model"
      ],
      "metadata": {
        "id": "Q2aTOyIERmzB"
      },
      "execution_count": 11,
      "outputs": []
    },
    {
      "cell_type": "code",
      "source": [
        "# Wrap the model with KerasClassifier\n",
        "model = KerasClassifier(build_fn=create_model, verbose=0)"
      ],
      "metadata": {
        "id": "_pEalL5XRnKD",
        "colab": {
          "base_uri": "https://localhost:8080/"
        },
        "outputId": "9a8f1122-8727-4000-ad02-5d3ec74a6e4a"
      },
      "execution_count": 12,
      "outputs": [
        {
          "output_type": "stream",
          "name": "stderr",
          "text": [
            "<ipython-input-12-d87513676611>:2: DeprecationWarning: KerasClassifier is deprecated, use Sci-Keras (https://github.com/adriangb/scikeras) instead. See https://www.adriangb.com/scikeras/stable/migration.html for help migrating.\n",
            "  model = KerasClassifier(build_fn=create_model, verbose=0)\n"
          ]
        }
      ]
    },
    {
      "cell_type": "code",
      "source": [
        "param_grid = {\n",
        "    'optimizer': ['adam', 'rmsprop'],\n",
        "    'neurons': [8, 12, 16],\n",
        "    'batch_size': [10, 20, 30],\n",
        "    'epochs': [50, 100, 150]\n",
        "}"
      ],
      "metadata": {
        "id": "7d0dvxfXERHd"
      },
      "execution_count": 13,
      "outputs": []
    },
    {
      "cell_type": "code",
      "source": [
        "# Create a RandomizedSearchCV object with the KerasClassifier and parameter grid\n",
        "random_search = RandomizedSearchCV(estimator=model, param_distributions=param_grid, cv=5, n_jobs=-1, n_iter=10)\n",
        "\n",
        "# Fit the RandomizedSearchCV object to the training data\n",
        "random_result = random_search.fit(X_train, y_train)\n"
      ],
      "metadata": {
        "id": "LStd7jiHKPFD"
      },
      "execution_count": 14,
      "outputs": []
    },
    {
      "cell_type": "code",
      "source": [
        "# Print the best hyperparameters\n",
        "print(\"Best: %f using %s\" % (random_result.best_score_, random_result.best_params_))\n"
      ],
      "metadata": {
        "id": "rXBevOtjERBY",
        "colab": {
          "base_uri": "https://localhost:8080/"
        },
        "outputId": "e84c95e8-8679-4cde-eba5-626599524a7c"
      },
      "execution_count": 15,
      "outputs": [
        {
          "output_type": "stream",
          "name": "stdout",
          "text": [
            "Best: 0.765507 using {'optimizer': 'rmsprop', 'neurons': 16, 'epochs': 50, 'batch_size': 10}\n"
          ]
        }
      ]
    },
    {
      "cell_type": "code",
      "source": [
        "# Train and evaluate the model with the best hyperparameters\n",
        "best_params = random_result.best_params_\n",
        "best_model = create_model(best_params['optimizer'], best_params['neurons'])\n",
        "best_model.fit(X_train, y_train, epochs=best_params['epochs'], batch_size=best_params['batch_size'])\n"
      ],
      "metadata": {
        "id": "-Dv6yV7qEcyk",
        "colab": {
          "base_uri": "https://localhost:8080/"
        },
        "outputId": "323e885e-751f-4849-c558-4e5c46f6b93c"
      },
      "execution_count": 16,
      "outputs": [
        {
          "output_type": "stream",
          "name": "stdout",
          "text": [
            "Epoch 1/50\n",
            "62/62 [==============================] - 1s 3ms/step - loss: 0.7098 - accuracy: 0.5016\n",
            "Epoch 2/50\n",
            "62/62 [==============================] - 0s 3ms/step - loss: 0.6007 - accuracy: 0.6678\n",
            "Epoch 3/50\n",
            "62/62 [==============================] - 0s 3ms/step - loss: 0.5593 - accuracy: 0.7134\n",
            "Epoch 4/50\n",
            "62/62 [==============================] - 0s 3ms/step - loss: 0.5344 - accuracy: 0.7362\n",
            "Epoch 5/50\n",
            "62/62 [==============================] - 0s 3ms/step - loss: 0.5183 - accuracy: 0.7443\n",
            "Epoch 6/50\n",
            "62/62 [==============================] - 0s 3ms/step - loss: 0.5059 - accuracy: 0.7606\n",
            "Epoch 7/50\n",
            "62/62 [==============================] - 0s 3ms/step - loss: 0.4980 - accuracy: 0.7541\n",
            "Epoch 8/50\n",
            "62/62 [==============================] - 0s 4ms/step - loss: 0.4913 - accuracy: 0.7573\n",
            "Epoch 9/50\n",
            "62/62 [==============================] - 0s 4ms/step - loss: 0.4863 - accuracy: 0.7606\n",
            "Epoch 10/50\n",
            "62/62 [==============================] - 0s 3ms/step - loss: 0.4816 - accuracy: 0.7704\n",
            "Epoch 11/50\n",
            "62/62 [==============================] - 0s 3ms/step - loss: 0.4777 - accuracy: 0.7687\n",
            "Epoch 12/50\n",
            "62/62 [==============================] - 0s 3ms/step - loss: 0.4756 - accuracy: 0.7687\n",
            "Epoch 13/50\n",
            "62/62 [==============================] - 0s 3ms/step - loss: 0.4730 - accuracy: 0.7720\n",
            "Epoch 14/50\n",
            "62/62 [==============================] - 0s 3ms/step - loss: 0.4707 - accuracy: 0.7769\n",
            "Epoch 15/50\n",
            "62/62 [==============================] - 0s 3ms/step - loss: 0.4682 - accuracy: 0.7801\n",
            "Epoch 16/50\n",
            "62/62 [==============================] - 0s 3ms/step - loss: 0.4664 - accuracy: 0.7801\n",
            "Epoch 17/50\n",
            "62/62 [==============================] - 0s 3ms/step - loss: 0.4650 - accuracy: 0.7883\n",
            "Epoch 18/50\n",
            "62/62 [==============================] - 0s 3ms/step - loss: 0.4625 - accuracy: 0.7866\n",
            "Epoch 19/50\n",
            "62/62 [==============================] - 0s 3ms/step - loss: 0.4617 - accuracy: 0.7834\n",
            "Epoch 20/50\n",
            "62/62 [==============================] - 0s 3ms/step - loss: 0.4599 - accuracy: 0.7883\n",
            "Epoch 21/50\n",
            "62/62 [==============================] - 0s 3ms/step - loss: 0.4579 - accuracy: 0.7801\n",
            "Epoch 22/50\n",
            "62/62 [==============================] - 0s 3ms/step - loss: 0.4574 - accuracy: 0.7850\n",
            "Epoch 23/50\n",
            "62/62 [==============================] - 0s 3ms/step - loss: 0.4558 - accuracy: 0.7866\n",
            "Epoch 24/50\n",
            "62/62 [==============================] - 0s 4ms/step - loss: 0.4550 - accuracy: 0.7866\n",
            "Epoch 25/50\n",
            "62/62 [==============================] - 0s 3ms/step - loss: 0.4537 - accuracy: 0.7899\n",
            "Epoch 26/50\n",
            "62/62 [==============================] - 0s 3ms/step - loss: 0.4521 - accuracy: 0.7850\n",
            "Epoch 27/50\n",
            "62/62 [==============================] - 0s 3ms/step - loss: 0.4512 - accuracy: 0.7899\n",
            "Epoch 28/50\n",
            "62/62 [==============================] - 0s 3ms/step - loss: 0.4496 - accuracy: 0.7899\n",
            "Epoch 29/50\n",
            "62/62 [==============================] - 0s 3ms/step - loss: 0.4492 - accuracy: 0.7932\n",
            "Epoch 30/50\n",
            "62/62 [==============================] - 0s 3ms/step - loss: 0.4486 - accuracy: 0.7899\n",
            "Epoch 31/50\n",
            "62/62 [==============================] - 0s 3ms/step - loss: 0.4471 - accuracy: 0.7948\n",
            "Epoch 32/50\n",
            "62/62 [==============================] - 0s 3ms/step - loss: 0.4461 - accuracy: 0.7915\n",
            "Epoch 33/50\n",
            "62/62 [==============================] - 0s 3ms/step - loss: 0.4455 - accuracy: 0.7883\n",
            "Epoch 34/50\n",
            "62/62 [==============================] - 0s 3ms/step - loss: 0.4439 - accuracy: 0.7915\n",
            "Epoch 35/50\n",
            "62/62 [==============================] - 0s 3ms/step - loss: 0.4437 - accuracy: 0.7915\n",
            "Epoch 36/50\n",
            "62/62 [==============================] - 0s 3ms/step - loss: 0.4428 - accuracy: 0.7899\n",
            "Epoch 37/50\n",
            "62/62 [==============================] - 0s 3ms/step - loss: 0.4424 - accuracy: 0.7948\n",
            "Epoch 38/50\n",
            "62/62 [==============================] - 0s 3ms/step - loss: 0.4409 - accuracy: 0.7899\n",
            "Epoch 39/50\n",
            "62/62 [==============================] - 0s 3ms/step - loss: 0.4407 - accuracy: 0.7915\n",
            "Epoch 40/50\n",
            "62/62 [==============================] - 0s 5ms/step - loss: 0.4397 - accuracy: 0.7948\n",
            "Epoch 41/50\n",
            "62/62 [==============================] - 0s 5ms/step - loss: 0.4393 - accuracy: 0.7915\n",
            "Epoch 42/50\n",
            "62/62 [==============================] - 0s 5ms/step - loss: 0.4385 - accuracy: 0.7915\n",
            "Epoch 43/50\n",
            "62/62 [==============================] - 0s 4ms/step - loss: 0.4379 - accuracy: 0.7915\n",
            "Epoch 44/50\n",
            "62/62 [==============================] - 0s 5ms/step - loss: 0.4370 - accuracy: 0.7964\n",
            "Epoch 45/50\n",
            "62/62 [==============================] - 0s 5ms/step - loss: 0.4359 - accuracy: 0.7932\n",
            "Epoch 46/50\n",
            "62/62 [==============================] - 0s 5ms/step - loss: 0.4347 - accuracy: 0.7948\n",
            "Epoch 47/50\n",
            "62/62 [==============================] - 0s 5ms/step - loss: 0.4346 - accuracy: 0.7883\n",
            "Epoch 48/50\n",
            "62/62 [==============================] - 0s 5ms/step - loss: 0.4338 - accuracy: 0.7980\n",
            "Epoch 49/50\n",
            "62/62 [==============================] - 0s 5ms/step - loss: 0.4327 - accuracy: 0.7932\n",
            "Epoch 50/50\n",
            "62/62 [==============================] - 0s 5ms/step - loss: 0.4324 - accuracy: 0.7948\n"
          ]
        },
        {
          "output_type": "execute_result",
          "data": {
            "text/plain": [
              "<keras.callbacks.History at 0x7fb9f9272440>"
            ]
          },
          "metadata": {},
          "execution_count": 16
        }
      ]
    },
    {
      "cell_type": "code",
      "source": [
        "# Print the model summary\n",
        "print(best_model.summary())\n",
        "\n",
        "# Plot the model architecture\n",
        "from keras.utils.vis_utils import plot_model\n",
        "plot_model(best_model, to_file='model_plot.png', show_shapes=True, show_layer_names=True)\n"
      ],
      "metadata": {
        "colab": {
          "base_uri": "https://localhost:8080/",
          "height": 694
        },
        "id": "FhzAzFR7Qhm-",
        "outputId": "a93ec1e4-db85-48de-ef34-a9ecbda9bbb8"
      },
      "execution_count": 17,
      "outputs": [
        {
          "output_type": "stream",
          "name": "stdout",
          "text": [
            "Model: \"sequential_1\"\n",
            "_________________________________________________________________\n",
            " Layer (type)                Output Shape              Param #   \n",
            "=================================================================\n",
            " dense_3 (Dense)             (None, 16)                144       \n",
            "                                                                 \n",
            " dense_4 (Dense)             (None, 8)                 136       \n",
            "                                                                 \n",
            " dense_5 (Dense)             (None, 1)                 9         \n",
            "                                                                 \n",
            "=================================================================\n",
            "Total params: 289\n",
            "Trainable params: 289\n",
            "Non-trainable params: 0\n",
            "_________________________________________________________________\n",
            "None\n"
          ]
        },
        {
          "output_type": "execute_result",
          "data": {
            "image/png": "[encoded data removed]",
            "text/plain": [
              "<IPython.core.display.Image object>"
            ]
          },
          "metadata": {},
          "execution_count": 17
        }
      ]
    },
    {
      "cell_type": "code",
      "source": [
        "_, accuracy = best_model.evaluate(X_test, y_test)\n",
        "print('Accuracy: %.2f' % (accuracy * 100))\n"
      ],
      "metadata": {
        "id": "X0kzk4kyEcwD",
        "colab": {
          "base_uri": "https://localhost:8080/"
        },
        "outputId": "a7d12b01-4c18-4458-da88-6a6af0aaa6c3"
      },
      "execution_count": 18,
      "outputs": [
        {
          "output_type": "stream",
          "name": "stdout",
          "text": [
            "5/5 [==============================] - 0s 3ms/step - loss: 0.4665 - accuracy: 0.7922\n",
            "Accuracy: 79.22\n"
          ]
        }
      ]
    },
    {
      "cell_type": "code",
      "source": [
        "# Make predictions and calculate evaluation metrics\n",
        "y_pred = best_model.predict(X_test)\n",
        "y_pred_classes = (y_pred > 0.5).astype(int)"
      ],
      "metadata": {
        "id": "t6s_JY0XEctm",
        "colab": {
          "base_uri": "https://localhost:8080/"
        },
        "outputId": "e8492189-9229-49e5-9449-b9dc3637351e"
      },
      "execution_count": 19,
      "outputs": [
        {
          "output_type": "stream",
          "name": "stdout",
          "text": [
            "5/5 [==============================] - 0s 2ms/step\n"
          ]
        }
      ]
    },
    {
      "cell_type": "code",
      "source": [
        "from sklearn.metrics import accuracy_score, precision_score, recall_score, f1_score, confusion_matrix\n",
        "accuracy = accuracy_score(y_test, y_pred_classes)\n",
        "precision = precision_score(y_test, y_pred_classes)\n",
        "recall = recall_score(y_test, y_pred_classes)\n",
        "f1 = f1_score(y_test, y_pred_classes)\n",
        "confusion = confusion_matrix(y_test, y_pred_classes)\n",
        "print('Accuracy:', accuracy)\n",
        "print('Precision:', precision)\n",
        "print('Recall:', recall)\n",
        "print('F1-score:', f1)\n",
        "print('Confusion matrix:', confusion.ravel())\n"
      ],
      "metadata": {
        "id": "_iSKNiHkEcrX",
        "colab": {
          "base_uri": "https://localhost:8080/"
        },
        "outputId": "97dc1c29-ac5d-43fb-ffe2-e0a0ee27f5bd"
      },
      "execution_count": 20,
      "outputs": [
        {
          "output_type": "stream",
          "name": "stdout",
          "text": [
            "Accuracy: 0.7922077922077922\n",
            "Precision: 0.6470588235294118\n",
            "Recall: 0.7021276595744681\n",
            "F1-score: 0.673469387755102\n",
            "Confusion matrix: [89 18 14 33]\n"
          ]
        }
      ]
    },
    {
      "cell_type": "code",
      "source": [
        "# Calculate sensitivity and specificity\n",
        "TN, FP, FN, TP = confusion.ravel()\n",
        "sensitivity = TP / (TP + FN)\n",
        "specificity = TN / (TN + FP)\n",
        "\n",
        "print('Sensitivity:', sensitivity)\n",
        "print('Specificity:', specificity)\n"
      ],
      "metadata": {
        "colab": {
          "base_uri": "https://localhost:8080/"
        },
        "id": "8dpw8rtNR241",
        "outputId": "049ad68f-ce6a-4415-e702-dcb5dac432a4"
      },
      "execution_count": 21,
      "outputs": [
        {
          "output_type": "stream",
          "name": "stdout",
          "text": [
            "Sensitivity: 0.7021276595744681\n",
            "Specificity: 0.8317757009345794\n"
          ]
        }
      ]
    },
    {
      "cell_type": "code",
      "source": [
        "# Calculate and plot the ROC curve\n",
        "from sklearn import metrics\n",
        "fpr, tpr, _ = metrics.roc_curve(y_test, y_pred)\n",
        "auc = metrics.roc_auc_score(y_test, y_pred)\n",
        "plt.plot(fpr, tpr, label=\"AUC = \" + str(auc))\n",
        "plt.ylabel('True Positive Rate')\n",
        "plt.xlabel('False Positive Rate')\n",
        "plt.legend(loc=4)\n",
        "plt.show()"
      ],
      "metadata": {
        "id": "dGKmF1PiEqOf",
        "colab": {
          "base_uri": "https://localhost:8080/",
          "height": 449
        },
        "outputId": "b3bb20f1-3b94-4319-a11f-d0eabf18a44e"
      },
      "execution_count": 22,
      "outputs": [
        {
          "output_type": "display_data",
          "data": {
            "text/plain": [
              "<Figure size 640x480 with 1 Axes>"
            ],
            "image/png": "[encoded data removed]"
          },
          "metadata": {}
        }
      ]
    },
    {
      "cell_type": "code",
      "source": [
        "from sklearn.tree import DecisionTreeClassifier\n",
        "\n",
        "# Train the decision tree\n",
        "dt_classifier = DecisionTreeClassifier(random_state=0)\n",
        "dt_classifier.fit(X_train, y_train)\n",
        "\n",
        "# Make predictions using the decision tree\n",
        "y_pred_dt = dt_classifier.predict(X_test)\n",
        "\n",
        "# Compute the evaluation metrics for the decision tree\n",
        "accuracy_dt = accuracy_score(y_test, y_pred_dt)\n",
        "precision_dt = precision_score(y_test, y_pred_dt)\n",
        "recall_dt = recall_score(y_test, y_pred_dt)\n",
        "f1_dt = f1_score(y_test, y_pred_dt)\n",
        "confusion_dt = confusion_matrix(y_test, y_pred_dt)\n",
        "\n",
        "print('Decision Tree Confusion Matrix:\\n', confusion_dt)\n",
        "print('Decision Tree Accuracy:', accuracy_dt)\n",
        "print('Decision Tree Precision:', precision_dt)\n",
        "print('Decision Tree Recall or Sensitivity:', recall_dt)\n",
        "print('Decision Tree F1-score:', f1_dt)\n",
        "print('Decision Tree Confusion matrix:', confusion_dt.ravel())\n",
        "tn_dt, fp_dt, fn_dt, tp_dt = confusion_dt.ravel()\n",
        "specificity_dt = tn_dt / (tn_dt + fp_dt)\n",
        "\n",
        "print('Decision Tree Specificity:', specificity_dt)\n"
      ],
      "metadata": {
        "colab": {
          "base_uri": "https://localhost:8080/"
        },
        "id": "qQ644eCPSdyA",
        "outputId": "80dd429c-9b57-4cf0-e6fd-5381d3b9704a"
      },
      "execution_count": 23,
      "outputs": [
        {
          "output_type": "stream",
          "name": "stdout",
          "text": [
            "Decision Tree Confusion Matrix:\n",
            " [[86 21]\n",
            " [16 31]]\n",
            "Decision Tree Accuracy: 0.7597402597402597\n",
            "Decision Tree Precision: 0.5961538461538461\n",
            "Decision Tree Recall or Sensitivity: 0.6595744680851063\n",
            "Decision Tree F1-score: 0.6262626262626262\n",
            "Decision Tree Confusion matrix: [86 21 16 31]\n",
            "Decision Tree Specificity: 0.8037383177570093\n"
          ]
        }
      ]
    },
    {
      "cell_type": "code",
      "source": [
        "from sklearn.linear_model import LogisticRegression\n",
        "\n",
        "# Train the logistic regression model\n",
        "lr_classifier = LogisticRegression(random_state=0)\n",
        "lr_classifier.fit(X_train, y_train)\n",
        "\n",
        "# Make predictions using the logistic regression model\n",
        "y_pred_lr = lr_classifier.predict(X_test)\n",
        "\n",
        "# Compute the evaluation metrics for logistic regression\n",
        "from sklearn.metrics import accuracy_score, precision_score, recall_score, f1_score, confusion_matrix\n",
        "accuracy_lr = accuracy_score(y_test, y_pred_lr)\n",
        "precision_lr = precision_score(y_test, y_pred_lr)\n",
        "recall_lr = recall_score(y_test, y_pred_lr)\n",
        "f1_lr = f1_score(y_test, y_pred_lr)\n",
        "confusion_lr = confusion_matrix(y_test, y_pred_lr)\n",
        "\n",
        "# Compute specificity for logistic regression\n",
        "tn_lr, fp_lr, fn_lr, tp_lr = confusion_lr.ravel()\n",
        "specificity_lr = tn_lr / (tn_lr + fp_lr)\n",
        "\n",
        "# Print evaluation metrics for logistic regression\n",
        "print('Logistic Regression Accuracy:', accuracy_lr)\n",
        "print('Logistic Regression Precision:', precision_lr)\n",
        "print('Logistic Regression Recall or Sensitivity:', recall_lr)\n",
        "print('Logistic Regression F1-score:', f1_lr)\n",
        "print('Logistic Regression Specificity:', specificity_lr)\n",
        "print('Logistic Regression Confusion Matrix:\\n', confusion_lr)"
      ],
      "metadata": {
        "colab": {
          "base_uri": "https://localhost:8080/"
        },
        "id": "-b2iK9GpoxeA",
        "outputId": "c0b1705e-ac18-4497-d3ba-cbb0ce547fcf"
      },
      "execution_count": 24,
      "outputs": [
        {
          "output_type": "stream",
          "name": "stdout",
          "text": [
            "Logistic Regression Accuracy: 0.8246753246753247\n",
            "Logistic Regression Precision: 0.7631578947368421\n",
            "Logistic Regression Recall or Sensitivity: 0.6170212765957447\n",
            "Logistic Regression F1-score: 0.6823529411764706\n",
            "Logistic Regression Specificity: 0.9158878504672897\n",
            "Logistic Regression Confusion Matrix:\n",
            " [[98  9]\n",
            " [18 29]]\n"
          ]
        }
      ]
    },
    {
      "cell_type": "code",
      "source": [
        "from sklearn.neighbors import KNeighborsClassifier\n",
        "\n",
        "\n",
        "# Train the kNN model\n",
        "knn_classifier = KNeighborsClassifier(n_neighbors=5)\n",
        "knn_classifier.fit(X_train, y_train)\n",
        "\n",
        "\n",
        "\n",
        "# Make predictions using the kNN\n",
        "y_pred_knn = knn_classifier.predict(X_test)\n",
        "\n",
        "\n",
        "# Compute the evaluation metrics for kNN\n",
        "from sklearn.metrics import accuracy_score, precision_score, recall_score, f1_score, confusion_matrix\n",
        "accuracy_knn = accuracy_score(y_test, y_pred_knn)\n",
        "precision_knn = precision_score(y_test, y_pred_knn)\n",
        "recall_knn = recall_score(y_test, y_pred_knn)\n",
        "f1_knn = f1_score(y_test, y_pred_knn)\n",
        "confusion_knn = confusion_matrix(y_test, y_pred_knn)\n",
        "\n",
        "\n",
        "\n",
        "# Compute specificity for kNN\n",
        "tn_knn, fp_knn, fn_knn, tp_knn = confusion_knn.ravel()\n",
        "specificity_knn = tn_knn / (tn_knn + fp_knn)\n",
        "\n",
        "\n",
        "\n",
        "# Print evaluation metrics for kNN\n",
        "print('kNN Accuracy:', accuracy_knn)\n",
        "print('kNN Precision:', precision_knn)\n",
        "print('kNN Recall or Sensitivity:', recall_knn)\n",
        "print('kNN F1-score:', f1_knn)\n",
        "print('kNN Specificity:', specificity_knn)\n",
        "print('kNN Confusion Matrix:\\n', confusion_knn)"
      ],
      "metadata": {
        "colab": {
          "base_uri": "https://localhost:8080/"
        },
        "id": "K2yjA4A_7pl9",
        "outputId": "10e0c0b9-14b2-49ac-eecc-63b04603c806"
      },
      "execution_count": 25,
      "outputs": [
        {
          "output_type": "stream",
          "name": "stdout",
          "text": [
            "kNN Accuracy: 0.8051948051948052\n",
            "kNN Precision: 0.6976744186046512\n",
            "kNN Recall or Sensitivity: 0.6382978723404256\n",
            "kNN F1-score: 0.6666666666666666\n",
            "kNN Specificity: 0.8785046728971962\n",
            "kNN Confusion Matrix:\n",
            " [[94 13]\n",
            " [17 30]]\n"
          ]
        }
      ]
    },
    {
      "cell_type": "code",
      "source": [
        "from sklearn.ensemble import RandomForestClassifier\n",
        "# Train the random forest model\n",
        "rf_classifier = RandomForestClassifier(random_state=0)\n",
        "rf_classifier.fit(X_train, y_train)\n",
        "\n",
        "# Make predictions using the random forest\n",
        "y_pred_rf = rf_classifier.predict(X_test)\n",
        "\n",
        "# Compute the evaluation metrics for random forest\n",
        "accuracy_rf = accuracy_score(y_test, y_pred_rf)\n",
        "precision_rf = precision_score(y_test, y_pred_rf)\n",
        "recall_rf = recall_score(y_test, y_pred_rf)\n",
        "f1_rf = f1_score(y_test, y_pred_rf)\n",
        "confusion_rf = confusion_matrix(y_test, y_pred_rf)\n",
        "\n",
        "# Compute specificity for random forest\n",
        "tn_rf, fp_rf, fn_rf, tp_rf = confusion_rf.ravel()\n",
        "specificity_rf = tn_rf / (tn_rf + fp_rf)\n",
        "\n",
        "# Print evaluation metrics for random forest\n",
        "print('Random Forest Accuracy:', accuracy_rf)\n",
        "print('Random Forest Precision:', precision_rf)\n",
        "print('Random Forest Recall or Sensitivity:', recall_rf)\n",
        "print('Random Forest F1-score:', f1_rf)\n",
        "print('Random Forest Specificity:', specificity_rf)\n",
        "print('Random Forest Confusion Matrix:\\n', confusion_rf)"
      ],
      "metadata": {
        "colab": {
          "base_uri": "https://localhost:8080/"
        },
        "id": "lTmuOMCH7pYI",
        "outputId": "ba3a163f-076e-41cd-a513-7cc1d9e150d3"
      },
      "execution_count": 26,
      "outputs": [
        {
          "output_type": "stream",
          "name": "stdout",
          "text": [
            "Random Forest Accuracy: 0.7857142857142857\n",
            "Random Forest Precision: 0.6590909090909091\n",
            "Random Forest Recall or Sensitivity: 0.6170212765957447\n",
            "Random Forest F1-score: 0.6373626373626374\n",
            "Random Forest Specificity: 0.8598130841121495\n",
            "Random Forest Confusion Matrix:\n",
            " [[92 15]\n",
            " [18 29]]\n"
          ]
        }
      ]
    },
    {
      "cell_type": "code",
      "source": [],
      "metadata": {
        "id": "Fqn5Avqq8DSf"
      },
      "execution_count": 26,
      "outputs": []
    }
  ]
}